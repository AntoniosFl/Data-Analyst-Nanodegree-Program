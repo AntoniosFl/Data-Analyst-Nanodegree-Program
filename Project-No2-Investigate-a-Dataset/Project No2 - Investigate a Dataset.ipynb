{
 "cells": [
  {
   "cell_type": "markdown",
   "metadata": {},
   "source": [
    "\n",
    "# Project: Investigation of medical appointment No-Shows in Brazil. \n",
    "\n",
    "## Table of Contents\n",
    "<ul>\n",
    "<li><a href=\"#intro\">Introduction</a></li>\n",
    "<li><a href=\"#wrangling\">Data Wrangling</a></li>\n",
    "<li><a href=\"#eda\">Exploratory Data Analysis</a></li>\n",
    "<li><a href=\"#conclusions\">Conclusions</a></li>\n",
    "</ul>"
   ]
  },
  {
   "cell_type": "markdown",
   "metadata": {},
   "source": [
    "<a id='intro'></a>\n",
    "# Introduction\n",
    "\n",
    "> In this project we investigate the \"Medical Appointment No Shows\" dataset provided by JoniHoppen on Kaggle.\n",
    "\n",
    "> We will try to answer the question why patients miss their scheduled medical appointments and find out which factors play the biggest role. Is missing scheduled medical appointments related to gender, age or various handicaps? Is it related to whether the patient received a reminder notification via SMS or not? Has the time between the moment the patient schedules their appointment and the actual appointment date anything to do with the probability of the patient showing up to their appointment? Does a specific condition like Alcoholism, Hypertension, Diabetes affects it? We will examine all the above questions separately and, in some cases, collectively.\n"
   ]
  },
  {
   "cell_type": "code",
   "execution_count": 1,
   "metadata": {},
   "outputs": [],
   "source": [
    "import pandas as pd\n",
    "import numpy as np\n",
    "import matplotlib.pyplot as plt\n",
    "import seaborn as sns\n",
    "%matplotlib inline"
   ]
  },
  {
   "cell_type": "markdown",
   "metadata": {},
   "source": [
    ">Firstly we import all the necessary packages for our analysis"
   ]
  },
  {
   "cell_type": "markdown",
   "metadata": {},
   "source": [
    "<a id='wrangling'></a>\n",
    "# Data Wrangling"
   ]
  },
  {
   "cell_type": "markdown",
   "metadata": {},
   "source": [
    "### General Properties"
   ]
  },
  {
   "cell_type": "code",
   "execution_count": 2,
   "metadata": {},
   "outputs": [],
   "source": [
    "df = pd.read_csv(r'C:\\Users\\afled\\Desktop\\KaggleV2-May-2016.csv')"
   ]
  },
  {
   "cell_type": "code",
   "execution_count": 3,
   "metadata": {
    "scrolled": true
   },
   "outputs": [
    {
     "name": "stdout",
     "output_type": "stream",
     "text": [
      "<class 'pandas.core.frame.DataFrame'>\n",
      "RangeIndex: 110527 entries, 0 to 110526\n",
      "Data columns (total 14 columns):\n",
      " #   Column          Non-Null Count   Dtype  \n",
      "---  ------          --------------   -----  \n",
      " 0   PatientId       110527 non-null  float64\n",
      " 1   AppointmentID   110527 non-null  int64  \n",
      " 2   Gender          110527 non-null  object \n",
      " 3   ScheduledDay    110527 non-null  object \n",
      " 4   AppointmentDay  110527 non-null  object \n",
      " 5   Age             110527 non-null  int64  \n",
      " 6   Neighbourhood   110527 non-null  object \n",
      " 7   Scholarship     110527 non-null  int64  \n",
      " 8   Hipertension    110527 non-null  int64  \n",
      " 9   Diabetes        110527 non-null  int64  \n",
      " 10  Alcoholism      110527 non-null  int64  \n",
      " 11  Handcap         110527 non-null  int64  \n",
      " 12  SMS_received    110527 non-null  int64  \n",
      " 13  No-show         110527 non-null  object \n",
      "dtypes: float64(1), int64(8), object(5)\n",
      "memory usage: 11.8+ MB\n"
     ]
    }
   ],
   "source": [
    "df.info()"
   ]
  },
  {
   "cell_type": "code",
   "execution_count": 4,
   "metadata": {},
   "outputs": [
    {
     "data": {
      "text/plain": [
       "(110527, 14)"
      ]
     },
     "execution_count": 4,
     "metadata": {},
     "output_type": "execute_result"
    }
   ],
   "source": [
    "df.shape"
   ]
  },
  {
   "cell_type": "code",
   "execution_count": 5,
   "metadata": {},
   "outputs": [
    {
     "data": {
      "text/html": [
       "<div>\n",
       "<style scoped>\n",
       "    .dataframe tbody tr th:only-of-type {\n",
       "        vertical-align: middle;\n",
       "    }\n",
       "\n",
       "    .dataframe tbody tr th {\n",
       "        vertical-align: top;\n",
       "    }\n",
       "\n",
       "    .dataframe thead th {\n",
       "        text-align: right;\n",
       "    }\n",
       "</style>\n",
       "<table border=\"1\" class=\"dataframe\">\n",
       "  <thead>\n",
       "    <tr style=\"text-align: right;\">\n",
       "      <th></th>\n",
       "      <th>PatientId</th>\n",
       "      <th>AppointmentID</th>\n",
       "      <th>Gender</th>\n",
       "      <th>ScheduledDay</th>\n",
       "      <th>AppointmentDay</th>\n",
       "      <th>Age</th>\n",
       "      <th>Neighbourhood</th>\n",
       "      <th>Scholarship</th>\n",
       "      <th>Hipertension</th>\n",
       "      <th>Diabetes</th>\n",
       "      <th>Alcoholism</th>\n",
       "      <th>Handcap</th>\n",
       "      <th>SMS_received</th>\n",
       "      <th>No-show</th>\n",
       "    </tr>\n",
       "  </thead>\n",
       "  <tbody>\n",
       "    <tr>\n",
       "      <th>0</th>\n",
       "      <td>2.987250e+13</td>\n",
       "      <td>5642903</td>\n",
       "      <td>F</td>\n",
       "      <td>2016-04-29T18:38:08Z</td>\n",
       "      <td>2016-04-29T00:00:00Z</td>\n",
       "      <td>62</td>\n",
       "      <td>JARDIM DA PENHA</td>\n",
       "      <td>0</td>\n",
       "      <td>1</td>\n",
       "      <td>0</td>\n",
       "      <td>0</td>\n",
       "      <td>0</td>\n",
       "      <td>0</td>\n",
       "      <td>No</td>\n",
       "    </tr>\n",
       "    <tr>\n",
       "      <th>1</th>\n",
       "      <td>5.589978e+14</td>\n",
       "      <td>5642503</td>\n",
       "      <td>M</td>\n",
       "      <td>2016-04-29T16:08:27Z</td>\n",
       "      <td>2016-04-29T00:00:00Z</td>\n",
       "      <td>56</td>\n",
       "      <td>JARDIM DA PENHA</td>\n",
       "      <td>0</td>\n",
       "      <td>0</td>\n",
       "      <td>0</td>\n",
       "      <td>0</td>\n",
       "      <td>0</td>\n",
       "      <td>0</td>\n",
       "      <td>No</td>\n",
       "    </tr>\n",
       "    <tr>\n",
       "      <th>2</th>\n",
       "      <td>4.262962e+12</td>\n",
       "      <td>5642549</td>\n",
       "      <td>F</td>\n",
       "      <td>2016-04-29T16:19:04Z</td>\n",
       "      <td>2016-04-29T00:00:00Z</td>\n",
       "      <td>62</td>\n",
       "      <td>MATA DA PRAIA</td>\n",
       "      <td>0</td>\n",
       "      <td>0</td>\n",
       "      <td>0</td>\n",
       "      <td>0</td>\n",
       "      <td>0</td>\n",
       "      <td>0</td>\n",
       "      <td>No</td>\n",
       "    </tr>\n",
       "  </tbody>\n",
       "</table>\n",
       "</div>"
      ],
      "text/plain": [
       "      PatientId  AppointmentID Gender          ScheduledDay  \\\n",
       "0  2.987250e+13        5642903      F  2016-04-29T18:38:08Z   \n",
       "1  5.589978e+14        5642503      M  2016-04-29T16:08:27Z   \n",
       "2  4.262962e+12        5642549      F  2016-04-29T16:19:04Z   \n",
       "\n",
       "         AppointmentDay  Age    Neighbourhood  Scholarship  Hipertension  \\\n",
       "0  2016-04-29T00:00:00Z   62  JARDIM DA PENHA            0             1   \n",
       "1  2016-04-29T00:00:00Z   56  JARDIM DA PENHA            0             0   \n",
       "2  2016-04-29T00:00:00Z   62    MATA DA PRAIA            0             0   \n",
       "\n",
       "   Diabetes  Alcoholism  Handcap  SMS_received No-show  \n",
       "0         0           0        0             0      No  \n",
       "1         0           0        0             0      No  \n",
       "2         0           0        0             0      No  "
      ]
     },
     "execution_count": 5,
     "metadata": {},
     "output_type": "execute_result"
    }
   ],
   "source": [
    "df.head(3)"
   ]
  },
  {
   "cell_type": "code",
   "execution_count": 6,
   "metadata": {
    "scrolled": true
   },
   "outputs": [
    {
     "data": {
      "text/html": [
       "<div>\n",
       "<style scoped>\n",
       "    .dataframe tbody tr th:only-of-type {\n",
       "        vertical-align: middle;\n",
       "    }\n",
       "\n",
       "    .dataframe tbody tr th {\n",
       "        vertical-align: top;\n",
       "    }\n",
       "\n",
       "    .dataframe thead th {\n",
       "        text-align: right;\n",
       "    }\n",
       "</style>\n",
       "<table border=\"1\" class=\"dataframe\">\n",
       "  <thead>\n",
       "    <tr style=\"text-align: right;\">\n",
       "      <th></th>\n",
       "      <th>PatientId</th>\n",
       "      <th>AppointmentID</th>\n",
       "      <th>Age</th>\n",
       "      <th>Scholarship</th>\n",
       "      <th>Hipertension</th>\n",
       "      <th>Diabetes</th>\n",
       "      <th>Alcoholism</th>\n",
       "      <th>Handcap</th>\n",
       "      <th>SMS_received</th>\n",
       "    </tr>\n",
       "  </thead>\n",
       "  <tbody>\n",
       "    <tr>\n",
       "      <th>count</th>\n",
       "      <td>1.105270e+05</td>\n",
       "      <td>1.105270e+05</td>\n",
       "      <td>110527.000000</td>\n",
       "      <td>110527.000000</td>\n",
       "      <td>110527.000000</td>\n",
       "      <td>110527.000000</td>\n",
       "      <td>110527.000000</td>\n",
       "      <td>110527.000000</td>\n",
       "      <td>110527.000000</td>\n",
       "    </tr>\n",
       "    <tr>\n",
       "      <th>mean</th>\n",
       "      <td>1.474963e+14</td>\n",
       "      <td>5.675305e+06</td>\n",
       "      <td>37.088874</td>\n",
       "      <td>0.098266</td>\n",
       "      <td>0.197246</td>\n",
       "      <td>0.071865</td>\n",
       "      <td>0.030400</td>\n",
       "      <td>0.022248</td>\n",
       "      <td>0.321026</td>\n",
       "    </tr>\n",
       "    <tr>\n",
       "      <th>std</th>\n",
       "      <td>2.560949e+14</td>\n",
       "      <td>7.129575e+04</td>\n",
       "      <td>23.110205</td>\n",
       "      <td>0.297675</td>\n",
       "      <td>0.397921</td>\n",
       "      <td>0.258265</td>\n",
       "      <td>0.171686</td>\n",
       "      <td>0.161543</td>\n",
       "      <td>0.466873</td>\n",
       "    </tr>\n",
       "    <tr>\n",
       "      <th>min</th>\n",
       "      <td>3.921784e+04</td>\n",
       "      <td>5.030230e+06</td>\n",
       "      <td>-1.000000</td>\n",
       "      <td>0.000000</td>\n",
       "      <td>0.000000</td>\n",
       "      <td>0.000000</td>\n",
       "      <td>0.000000</td>\n",
       "      <td>0.000000</td>\n",
       "      <td>0.000000</td>\n",
       "    </tr>\n",
       "    <tr>\n",
       "      <th>25%</th>\n",
       "      <td>4.172614e+12</td>\n",
       "      <td>5.640286e+06</td>\n",
       "      <td>18.000000</td>\n",
       "      <td>0.000000</td>\n",
       "      <td>0.000000</td>\n",
       "      <td>0.000000</td>\n",
       "      <td>0.000000</td>\n",
       "      <td>0.000000</td>\n",
       "      <td>0.000000</td>\n",
       "    </tr>\n",
       "    <tr>\n",
       "      <th>50%</th>\n",
       "      <td>3.173184e+13</td>\n",
       "      <td>5.680573e+06</td>\n",
       "      <td>37.000000</td>\n",
       "      <td>0.000000</td>\n",
       "      <td>0.000000</td>\n",
       "      <td>0.000000</td>\n",
       "      <td>0.000000</td>\n",
       "      <td>0.000000</td>\n",
       "      <td>0.000000</td>\n",
       "    </tr>\n",
       "    <tr>\n",
       "      <th>75%</th>\n",
       "      <td>9.439172e+13</td>\n",
       "      <td>5.725524e+06</td>\n",
       "      <td>55.000000</td>\n",
       "      <td>0.000000</td>\n",
       "      <td>0.000000</td>\n",
       "      <td>0.000000</td>\n",
       "      <td>0.000000</td>\n",
       "      <td>0.000000</td>\n",
       "      <td>1.000000</td>\n",
       "    </tr>\n",
       "    <tr>\n",
       "      <th>max</th>\n",
       "      <td>9.999816e+14</td>\n",
       "      <td>5.790484e+06</td>\n",
       "      <td>115.000000</td>\n",
       "      <td>1.000000</td>\n",
       "      <td>1.000000</td>\n",
       "      <td>1.000000</td>\n",
       "      <td>1.000000</td>\n",
       "      <td>4.000000</td>\n",
       "      <td>1.000000</td>\n",
       "    </tr>\n",
       "  </tbody>\n",
       "</table>\n",
       "</div>"
      ],
      "text/plain": [
       "          PatientId  AppointmentID            Age    Scholarship  \\\n",
       "count  1.105270e+05   1.105270e+05  110527.000000  110527.000000   \n",
       "mean   1.474963e+14   5.675305e+06      37.088874       0.098266   \n",
       "std    2.560949e+14   7.129575e+04      23.110205       0.297675   \n",
       "min    3.921784e+04   5.030230e+06      -1.000000       0.000000   \n",
       "25%    4.172614e+12   5.640286e+06      18.000000       0.000000   \n",
       "50%    3.173184e+13   5.680573e+06      37.000000       0.000000   \n",
       "75%    9.439172e+13   5.725524e+06      55.000000       0.000000   \n",
       "max    9.999816e+14   5.790484e+06     115.000000       1.000000   \n",
       "\n",
       "        Hipertension       Diabetes     Alcoholism        Handcap  \\\n",
       "count  110527.000000  110527.000000  110527.000000  110527.000000   \n",
       "mean        0.197246       0.071865       0.030400       0.022248   \n",
       "std         0.397921       0.258265       0.171686       0.161543   \n",
       "min         0.000000       0.000000       0.000000       0.000000   \n",
       "25%         0.000000       0.000000       0.000000       0.000000   \n",
       "50%         0.000000       0.000000       0.000000       0.000000   \n",
       "75%         0.000000       0.000000       0.000000       0.000000   \n",
       "max         1.000000       1.000000       1.000000       4.000000   \n",
       "\n",
       "        SMS_received  \n",
       "count  110527.000000  \n",
       "mean        0.321026  \n",
       "std         0.466873  \n",
       "min         0.000000  \n",
       "25%         0.000000  \n",
       "50%         0.000000  \n",
       "75%         1.000000  \n",
       "max         1.000000  "
      ]
     },
     "execution_count": 6,
     "metadata": {},
     "output_type": "execute_result"
    }
   ],
   "source": [
    "df.describe()"
   ]
  },
  {
   "cell_type": "code",
   "execution_count": 7,
   "metadata": {},
   "outputs": [
    {
     "data": {
      "text/html": [
       "<div>\n",
       "<style scoped>\n",
       "    .dataframe tbody tr th:only-of-type {\n",
       "        vertical-align: middle;\n",
       "    }\n",
       "\n",
       "    .dataframe tbody tr th {\n",
       "        vertical-align: top;\n",
       "    }\n",
       "\n",
       "    .dataframe thead th {\n",
       "        text-align: right;\n",
       "    }\n",
       "</style>\n",
       "<table border=\"1\" class=\"dataframe\">\n",
       "  <thead>\n",
       "    <tr style=\"text-align: right;\">\n",
       "      <th></th>\n",
       "      <th>PatientId</th>\n",
       "      <th>AppointmentID</th>\n",
       "      <th>Gender</th>\n",
       "      <th>ScheduledDay</th>\n",
       "      <th>AppointmentDay</th>\n",
       "      <th>Age</th>\n",
       "      <th>Neighbourhood</th>\n",
       "      <th>Scholarship</th>\n",
       "      <th>Hipertension</th>\n",
       "      <th>Diabetes</th>\n",
       "      <th>Alcoholism</th>\n",
       "      <th>Handcap</th>\n",
       "      <th>SMS_received</th>\n",
       "      <th>No-show</th>\n",
       "    </tr>\n",
       "  </thead>\n",
       "  <tbody>\n",
       "    <tr>\n",
       "      <th>99832</th>\n",
       "      <td>4.659432e+14</td>\n",
       "      <td>5775010</td>\n",
       "      <td>F</td>\n",
       "      <td>2016-06-06T08:58:13Z</td>\n",
       "      <td>2016-06-06T00:00:00Z</td>\n",
       "      <td>-1</td>\n",
       "      <td>ROMÃO</td>\n",
       "      <td>0</td>\n",
       "      <td>0</td>\n",
       "      <td>0</td>\n",
       "      <td>0</td>\n",
       "      <td>0</td>\n",
       "      <td>0</td>\n",
       "      <td>No</td>\n",
       "    </tr>\n",
       "  </tbody>\n",
       "</table>\n",
       "</div>"
      ],
      "text/plain": [
       "          PatientId  AppointmentID Gender          ScheduledDay  \\\n",
       "99832  4.659432e+14        5775010      F  2016-06-06T08:58:13Z   \n",
       "\n",
       "             AppointmentDay  Age Neighbourhood  Scholarship  Hipertension  \\\n",
       "99832  2016-06-06T00:00:00Z   -1         ROMÃO            0             0   \n",
       "\n",
       "       Diabetes  Alcoholism  Handcap  SMS_received No-show  \n",
       "99832         0           0        0             0      No  "
      ]
     },
     "execution_count": 7,
     "metadata": {},
     "output_type": "execute_result"
    }
   ],
   "source": [
    "df_AgeMinus = df[df.Age < 0]\n",
    "df_AgeMinus"
   ]
  },
  {
   "cell_type": "code",
   "execution_count": 8,
   "metadata": {},
   "outputs": [
    {
     "data": {
      "text/plain": [
       "0    108286\n",
       "1      2042\n",
       "2       183\n",
       "3        13\n",
       "4         3\n",
       "Name: Handcap, dtype: int64"
      ]
     },
     "execution_count": 8,
     "metadata": {},
     "output_type": "execute_result"
    }
   ],
   "source": [
    "df['Handcap'].value_counts()"
   ]
  },
  {
   "cell_type": "markdown",
   "metadata": {},
   "source": [
    ">We load the **KaggleV2-May-2016.csv** file with our dataset and check its general properties with df.info. Afterwards we check its shape with df.shape and we print the first three rows with df.head to have a first look of how the dataset actually looks. Lastly we use df.describe to generate statistical measures. "
   ]
  },
  {
   "cell_type": "markdown",
   "metadata": {},
   "source": [
    "\n",
    "# Data Cleaning"
   ]
  },
  {
   "cell_type": "markdown",
   "metadata": {},
   "source": [
    ">After the initial check of the dataset, we found out that it consists of 110527 rows and 14 columns, there are no null values and it seems like there are a few things we need to clean and will do in the following cells.\n",
    "\n",
    ">We notice the following problems:\n",
    "\n",
    ">The Age column has one row with value of -1. This is probably a minor error in he dataset so we will remove it.\n",
    "\n",
    ">We also see that the Handicap column has values from 0 o 4, without any further information on what they represent. By checking the value counts of it we would assume that it probably means the number of handicaps for each patient. It looks like it makes sense to categorize it to patients with or without handicaps because the value counts for 2,3 and 4 respectively are too low. We will do that however later in the exploratory data analysis. The column's name will be changed from Handcap to Handicap as well, to fix this minor, probably typographic, error. \n",
    "\n",
    ">The No-Show column will need to be fixed as well. Yes and No will be replaced by the numerical values 1 and 2. It will also be renamed to No_show.\n",
    "\n",
    ">Another thing that needs to be changed is the datatypes of the columns ScheduledDay and AppointmentDay. As we will to try answer the question if if the time between the schedule date and the appointment date plays a role on whether the patient actually shows we will need to convert them to datetime so we can deduct one from another. After doing so, we will create a new column where we  will store the result and we will be convert it to a timedelta with a day precision.\n",
    "\n",
    ">Lastly the columns PatientId and AppointmentID will be dropped, along with the ScheduledDay and AppointmentDay ones, as there is no further use for them in this analysis.\n",
    "\n",
    ">Other than that, the other columns' datatypes do not need any changes."
   ]
  },
  {
   "cell_type": "code",
   "execution_count": 9,
   "metadata": {},
   "outputs": [],
   "source": [
    "df = df[df.Age >= 0]"
   ]
  },
  {
   "cell_type": "markdown",
   "metadata": {},
   "source": [
    "Removing the row with Age of -1."
   ]
  },
  {
   "cell_type": "code",
   "execution_count": 10,
   "metadata": {},
   "outputs": [],
   "source": [
    "df.rename(columns={'Handcap':'Handicap'}, inplace=True)\n",
    "df.rename(columns={'No-show':'No_show'}, inplace=True)\n",
    "df['No_show'] = pd.Series(np.where(df.No_show.values == \"Yes\", 1, 0), df.index)"
   ]
  },
  {
   "cell_type": "markdown",
   "metadata": {},
   "source": [
    "Renaming Handcap and No-show columns, as well as replacing the values of No-show column with 0s and 1s."
   ]
  },
  {
   "cell_type": "code",
   "execution_count": 11,
   "metadata": {},
   "outputs": [],
   "source": [
    "df['ScheduledDay'] = pd.to_datetime(df['ScheduledDay'])\n",
    "df['AppointmentDay'] = pd.to_datetime(df['AppointmentDay'])\n",
    "df['AwaitingTime'] = df[\"AppointmentDay\"].sub(df[\"ScheduledDay\"], axis=0)\n",
    "df[\"AwaitingTime\"] = (df[\"AwaitingTime\"] / np.timedelta64(1, 'D')).abs()\n",
    "df[\"AwaitingTime\"] = round(df[\"AwaitingTime\"],1)"
   ]
  },
  {
   "cell_type": "markdown",
   "metadata": {},
   "source": [
    " We change the datatypes of the columns ScheduledDay and AppointmentDay to datetime, we subtract ScheduledDay values from AppointmentDay values and store the results to a new column AwaitingTime, which we will use for our analysis, and then we convert it to timedelta with a day precision and round it to one decimal."
   ]
  },
  {
   "cell_type": "code",
   "execution_count": 12,
   "metadata": {},
   "outputs": [],
   "source": [
    "df.drop([\"PatientId\",'AppointmentID','ScheduledDay','AppointmentDay'], axis=1, inplace = True)"
   ]
  },
  {
   "cell_type": "markdown",
   "metadata": {},
   "source": [
    "We use df.drop to drop the unnecessary columns."
   ]
  },
  {
   "cell_type": "markdown",
   "metadata": {},
   "source": [
    "<a id='eda'></a>\n",
    "# Exploratory Data Analysis"
   ]
  },
  {
   "cell_type": "markdown",
   "metadata": {},
   "source": [
    "### Does Age, Gender or having a Scholarship Bolsa Família is a social welfare program of the Government of Brazil) play a role in the probability of a patient not showing up at their scheduled medical appointment?"
   ]
  },
  {
   "cell_type": "code",
   "execution_count": 13,
   "metadata": {},
   "outputs": [
    {
     "data": {
      "text/html": [
       "<div>\n",
       "<style scoped>\n",
       "    .dataframe tbody tr th:only-of-type {\n",
       "        vertical-align: middle;\n",
       "    }\n",
       "\n",
       "    .dataframe tbody tr th {\n",
       "        vertical-align: top;\n",
       "    }\n",
       "\n",
       "    .dataframe thead th {\n",
       "        text-align: right;\n",
       "    }\n",
       "</style>\n",
       "<table border=\"1\" class=\"dataframe\">\n",
       "  <thead>\n",
       "    <tr style=\"text-align: right;\">\n",
       "      <th></th>\n",
       "      <th>Gender</th>\n",
       "      <th>Age</th>\n",
       "      <th>Neighbourhood</th>\n",
       "      <th>Scholarship</th>\n",
       "      <th>Hipertension</th>\n",
       "      <th>Diabetes</th>\n",
       "      <th>Alcoholism</th>\n",
       "      <th>Handicap</th>\n",
       "      <th>SMS_received</th>\n",
       "      <th>No_show</th>\n",
       "      <th>AwaitingTime</th>\n",
       "    </tr>\n",
       "  </thead>\n",
       "  <tbody>\n",
       "    <tr>\n",
       "      <th>0</th>\n",
       "      <td>F</td>\n",
       "      <td>62</td>\n",
       "      <td>JARDIM DA PENHA</td>\n",
       "      <td>0</td>\n",
       "      <td>1</td>\n",
       "      <td>0</td>\n",
       "      <td>0</td>\n",
       "      <td>0</td>\n",
       "      <td>0</td>\n",
       "      <td>0</td>\n",
       "      <td>0.8</td>\n",
       "    </tr>\n",
       "  </tbody>\n",
       "</table>\n",
       "</div>"
      ],
      "text/plain": [
       "  Gender  Age    Neighbourhood  Scholarship  Hipertension  Diabetes  \\\n",
       "0      F   62  JARDIM DA PENHA            0             1         0   \n",
       "\n",
       "   Alcoholism  Handicap  SMS_received  No_show  AwaitingTime  \n",
       "0           0         0             0        0           0.8  "
      ]
     },
     "execution_count": 13,
     "metadata": {},
     "output_type": "execute_result"
    }
   ],
   "source": [
    "df.head(1)"
   ]
  },
  {
   "cell_type": "markdown",
   "metadata": {},
   "source": [
    "### 1. Gender"
   ]
  },
  {
   "cell_type": "code",
   "execution_count": 14,
   "metadata": {},
   "outputs": [
    {
     "data": {
      "text/plain": [
       "Gender\n",
       "F    0.203149\n",
       "M    0.199679\n",
       "Name: No_show, dtype: float64"
      ]
     },
     "execution_count": 14,
     "metadata": {},
     "output_type": "execute_result"
    }
   ],
   "source": [
    "df.groupby('Gender').No_show.mean()"
   ]
  },
  {
   "cell_type": "code",
   "execution_count": 15,
   "metadata": {
    "scrolled": true
   },
   "outputs": [
    {
     "data": {
      "image/png": "[encoded data removed]",
      "text/plain": [
       "<Figure size 432x288 with 1 Axes>"
      ]
     },
     "metadata": {
      "needs_background": "light"
     },
     "output_type": "display_data"
    }
   ],
   "source": [
    "df.groupby('Gender').No_show.mean().plot(kind='bar')\n",
    "plt.title('No-Shows for Females and Males')\n",
    "plt.ylabel('No-Show');"
   ]
  },
  {
   "cell_type": "markdown",
   "metadata": {
    "collapsed": true
   },
   "source": [
    "We group our data by Gender and calculate the No-Show mean for Males and Females. The numbers is almost identically, which also shows visually in the above bar graph. \n",
    "Gender does not seem affect the probability of a patient missing a scheduled appointmnet."
   ]
  },
  {
   "cell_type": "markdown",
   "metadata": {},
   "source": [
    "### 2. Age"
   ]
  },
  {
   "cell_type": "code",
   "execution_count": 16,
   "metadata": {},
   "outputs": [],
   "source": [
    "no_show = df.No_show == 1\n",
    "\n",
    "show = df.No_show == 0"
   ]
  },
  {
   "cell_type": "markdown",
   "metadata": {},
   "source": [
    "We create Masks for \"Show\" or \"No-Show\""
   ]
  },
  {
   "cell_type": "code",
   "execution_count": 17,
   "metadata": {},
   "outputs": [
    {
     "data": {
      "text/plain": [
       "(37.790504154999034, 34.31766656212196)"
      ]
     },
     "execution_count": 17,
     "metadata": {},
     "output_type": "execute_result"
    }
   ],
   "source": [
    "df.Age[show].mean(),df.Age[no_show].mean()"
   ]
  },
  {
   "cell_type": "code",
   "execution_count": 18,
   "metadata": {},
   "outputs": [
    {
     "data": {
      "image/png": "[encoded data removed]",
      "text/plain": [
       "<Figure size 432x288 with 1 Axes>"
      ]
     },
     "metadata": {
      "needs_background": "light"
     },
     "output_type": "display_data"
    }
   ],
   "source": [
    "locations = [1, 2]\n",
    "heights = [df.Age[show].mean(), df.Age[no_show].mean()]\n",
    "labels = ['Show','No_Show']\n",
    "plt.bar(locations, heights, tick_label=labels)\n",
    "plt.title('Age means for Shows VS No-Shows')\n",
    "plt.ylabel('Age');"
   ]
  },
  {
   "cell_type": "markdown",
   "metadata": {},
   "source": [
    "We firstly check the Age means for \"Show\" or \"No-Show\" using the masks we created above.\n",
    "\n",
    "There is a clear indication here that younger people tend to miss their medical appointments more frequently, as the age mean for patients that show up normally is around 37.8 whereas the age mean for patients that did not show up is around 34.3.\n",
    "\n",
    "We also plotted a simple graph that helps visually display that tendency."
   ]
  },
  {
   "cell_type": "code",
   "execution_count": 19,
   "metadata": {},
   "outputs": [
    {
     "data": {
      "text/plain": [
       "count    110526.000000\n",
       "mean         37.089219\n",
       "std          23.110026\n",
       "min           0.000000\n",
       "25%          18.000000\n",
       "50%          37.000000\n",
       "75%          55.000000\n",
       "max         115.000000\n",
       "Name: Age, dtype: float64"
      ]
     },
     "execution_count": 19,
     "metadata": {},
     "output_type": "execute_result"
    }
   ],
   "source": [
    "df['Age'].describe()"
   ]
  },
  {
   "cell_type": "markdown",
   "metadata": {},
   "source": [
    "We investigate the Age column further, attemting to gain more insight to the distribution of ages so that we can investigate specific age groups."
   ]
  },
  {
   "cell_type": "code",
   "execution_count": 20,
   "metadata": {},
   "outputs": [],
   "source": [
    "Age0_20 = df.query('Age > 0 & Age < 20')\n",
    "Age20_40 = df.query('Age >= 20 & Age < 40')\n",
    "Age40_60 = df.query('Age >= 40 & Age < 60')\n",
    "Age60Plus = df.query('Age >= 60')"
   ]
  },
  {
   "cell_type": "markdown",
   "metadata": {},
   "source": [
    "We filter our data in 4 age groups: 0-20, 20-40, 40-60, 60+."
   ]
  },
  {
   "cell_type": "code",
   "execution_count": 21,
   "metadata": {},
   "outputs": [],
   "source": [
    "NoShows0_20 = Age0_20.No_show.mean()\n",
    "NoShows20_40 = Age20_40.No_show.mean()\n",
    "NoShows40_60 = Age40_60.No_show.mean()\n",
    "NoShows60Plus = Age60Plus.No_show.mean()"
   ]
  },
  {
   "cell_type": "markdown",
   "metadata": {},
   "source": [
    "We take the No-Show means for each age group in order to plot it and understand if the Age plays a role in No-Shows"
   ]
  },
  {
   "cell_type": "code",
   "execution_count": 22,
   "metadata": {},
   "outputs": [
    {
     "data": {
      "image/png": "[encoded data removed]",
      "text/plain": [
       "<Figure size 432x288 with 1 Axes>"
      ]
     },
     "metadata": {
      "needs_background": "light"
     },
     "output_type": "display_data"
    }
   ],
   "source": [
    "plt.bar(['0-20','20-40','40-60','60+'],[NoShows0_20,NoShows20_40,NoShows40_60,NoShows60Plus])\n",
    "plt.title('Relation between age groups and No-Shows')\n",
    "plt.xlabel('Age Groups')\n",
    "plt.ylabel('No-Show');"
   ]
  },
  {
   "cell_type": "code",
   "execution_count": 23,
   "metadata": {},
   "outputs": [
    {
     "data": {
      "text/plain": [
       "(0.22707651086632927,\n",
       " 0.23138205749913404,\n",
       " 0.18808193668528864,\n",
       " 0.15311953903556416)"
      ]
     },
     "execution_count": 23,
     "metadata": {},
     "output_type": "execute_result"
    }
   ],
   "source": [
    "NoShows0_20,NoShows20_40,NoShows40_60,NoShows60Plus"
   ]
  },
  {
   "cell_type": "code",
   "execution_count": 24,
   "metadata": {},
   "outputs": [
    {
     "data": {
      "text/plain": [
       "0.22639631585162193"
      ]
     },
     "execution_count": 24,
     "metadata": {},
     "output_type": "execute_result"
    }
   ],
   "source": [
    "Age0_40 = df.query('Age < 40')\n",
    "NoShows0_40 = Age0_40.No_show.mean()\n",
    "\n",
    "NoShows0_40"
   ]
  },
  {
   "cell_type": "code",
   "execution_count": 25,
   "metadata": {},
   "outputs": [
    {
     "data": {
      "image/png": "[encoded data removed]",
      "text/plain": [
       "<Figure size 432x288 with 1 Axes>"
      ]
     },
     "metadata": {
      "needs_background": "light"
     },
     "output_type": "display_data"
    }
   ],
   "source": [
    "plt.bar(['0-40','40-60','60+'],[NoShows0_40,NoShows40_60,NoShows60Plus])\n",
    "plt.title('Relation between age groups and No-Shows')\n",
    "plt.xlabel('Age Groups')\n",
    "plt.ylabel('No-Show');"
   ]
  },
  {
   "cell_type": "markdown",
   "metadata": {},
   "source": [
    "We can also see here that younger patients from 0-40 miss their medical appointments more often. More specifically patients in the age group 20-40 have the highest No-Show mean."
   ]
  },
  {
   "cell_type": "markdown",
   "metadata": {},
   "source": [
    "### 3. Scholarship"
   ]
  },
  {
   "cell_type": "code",
   "execution_count": 26,
   "metadata": {},
   "outputs": [
    {
     "data": {
      "text/plain": [
       "Scholarship\n",
       "0    0.198074\n",
       "1    0.237363\n",
       "Name: No_show, dtype: float64"
      ]
     },
     "execution_count": 26,
     "metadata": {},
     "output_type": "execute_result"
    }
   ],
   "source": [
    "df.groupby('Scholarship').No_show.mean()"
   ]
  },
  {
   "cell_type": "code",
   "execution_count": 27,
   "metadata": {},
   "outputs": [
    {
     "data": {
      "image/png": "[encoded data removed]",
      "text/plain": [
       "<Figure size 432x288 with 1 Axes>"
      ]
     },
     "metadata": {
      "needs_background": "light"
     },
     "output_type": "display_data"
    }
   ],
   "source": [
    "df.groupby('Scholarship').No_show.mean().plot(kind='bar')\n",
    "plt.title('No-Shows for patients without scholarship VS patients with scholarship')\n",
    "plt.ylabel('No-Show');"
   ]
  },
  {
   "cell_type": "markdown",
   "metadata": {},
   "source": [
    "We group our data by Scholarship and calculate the No-Show mean for patients with or without scholarship. \n",
    "It seems like patients with a scholarship tend to miss their medical appointments more often. We can see that in the bar graph above as well.\n",
    "Perhaps the reason why this happens is that the fees are covered by the social welfare and they may value the service less than the patients who are not covered and have to pay a fee for the sevice.\n"
   ]
  },
  {
   "cell_type": "markdown",
   "metadata": {},
   "source": [
    "### Do factors like:\n",
    "### •\thaving a condition like Hipertension or Diabetes, or\n",
    "### •\tbeing Alcoholic or Handicaped \n",
    "###    play a role in the probability of a patient not showing up at their scheduled medical appointment?\n",
    "\n",
    "\n",
    "\n",
    "\n",
    "\n"
   ]
  },
  {
   "cell_type": "markdown",
   "metadata": {},
   "source": [
    "\n",
    "\n",
    "\n",
    "\n",
    "### 1. Hipertension"
   ]
  },
  {
   "cell_type": "code",
   "execution_count": 28,
   "metadata": {},
   "outputs": [
    {
     "data": {
      "text/plain": [
       "Hipertension\n",
       "0    0.209039\n",
       "1    0.173020\n",
       "Name: No_show, dtype: float64"
      ]
     },
     "execution_count": 28,
     "metadata": {},
     "output_type": "execute_result"
    }
   ],
   "source": [
    "df.groupby('Hipertension').No_show.mean()"
   ]
  },
  {
   "cell_type": "code",
   "execution_count": 29,
   "metadata": {},
   "outputs": [
    {
     "data": {
      "image/png": "[encoded data removed]",
      "text/plain": [
       "<Figure size 432x288 with 1 Axes>"
      ]
     },
     "metadata": {
      "needs_background": "light"
     },
     "output_type": "display_data"
    }
   ],
   "source": [
    "df.groupby('Hipertension').No_show.mean().plot(kind='bar')\n",
    "plt.title('No-Shows for patients without Hipertension VS patients with Hipertension')\n",
    "plt.ylabel('No-Show');"
   ]
  },
  {
   "cell_type": "markdown",
   "metadata": {},
   "source": [
    "We group our data by Hipertension and calculate the No-Show mean for patients with or without Hipertension. \n",
    "It seems like patients with Hipertension tend to attend their medical appointments more often than he rest of the sample. We can see that in the bar graph above as well.\n",
    "We can assume that because of their condition their appointments are more crucial than those of the rest of the sample."
   ]
  },
  {
   "cell_type": "markdown",
   "metadata": {},
   "source": [
    "### 2. Diabetes"
   ]
  },
  {
   "cell_type": "code",
   "execution_count": 30,
   "metadata": {},
   "outputs": [
    {
     "data": {
      "text/plain": [
       "Diabetes\n",
       "0    0.203630\n",
       "1    0.180033\n",
       "Name: No_show, dtype: float64"
      ]
     },
     "execution_count": 30,
     "metadata": {},
     "output_type": "execute_result"
    }
   ],
   "source": [
    "df.groupby('Diabetes').No_show.mean()"
   ]
  },
  {
   "cell_type": "code",
   "execution_count": 31,
   "metadata": {},
   "outputs": [
    {
     "data": {
      "image/png": "[encoded data removed]",
      "text/plain": [
       "<Figure size 432x288 with 1 Axes>"
      ]
     },
     "metadata": {
      "needs_background": "light"
     },
     "output_type": "display_data"
    }
   ],
   "source": [
    "df.groupby('Diabetes').No_show.mean().plot(kind='bar')\n",
    "plt.title('No-Shows for patients without Diabetes VS patients with Diabetes')\n",
    "plt.ylabel('No-Show');"
   ]
  },
  {
   "cell_type": "markdown",
   "metadata": {},
   "source": [
    "We group our data by Diabetes and calculate the No-Show mean for patients with or without Diabetes. \n",
    "It seems like patients with Diabetes tend to attend their medical appointments more often than he rest of the sample. We can see that in the bar graph above as well.\n",
    "We can assume that because of their condition their appointments are more crucial than those of the rest of the sample."
   ]
  },
  {
   "cell_type": "markdown",
   "metadata": {},
   "source": [
    "### 3. Alcoholism"
   ]
  },
  {
   "cell_type": "code",
   "execution_count": 32,
   "metadata": {},
   "outputs": [
    {
     "data": {
      "text/plain": [
       "Alcoholism\n",
       "0    0.201948\n",
       "1    0.201488\n",
       "Name: No_show, dtype: float64"
      ]
     },
     "execution_count": 32,
     "metadata": {},
     "output_type": "execute_result"
    }
   ],
   "source": [
    "df.groupby('Alcoholism').No_show.mean()"
   ]
  },
  {
   "cell_type": "code",
   "execution_count": 33,
   "metadata": {},
   "outputs": [
    {
     "data": {
      "image/png": "[encoded data removed]",
      "text/plain": [
       "<Figure size 432x288 with 1 Axes>"
      ]
     },
     "metadata": {
      "needs_background": "light"
     },
     "output_type": "display_data"
    }
   ],
   "source": [
    "df.groupby('Alcoholism').No_show.mean().plot(kind='bar')\n",
    "plt.title('No-Shows for Non-Alcoholic patients VS Alcoholic patients')\n",
    "plt.ylabel('No-Show');"
   ]
  },
  {
   "cell_type": "markdown",
   "metadata": {},
   "source": [
    "We group our data by Alcoholism and calculate the No-Show mean for Alcoholic patients and Non-Alcoholic patients. \n",
    "Here we can see both from the means and the bar graph that the numbers are virtually identical, which shows that whether a patient is alcoholic or not does not affect their chances to miss or attend a medical appointment"
   ]
  },
  {
   "cell_type": "markdown",
   "metadata": {},
   "source": [
    "### 4. Handicap"
   ]
  },
  {
   "cell_type": "code",
   "execution_count": 34,
   "metadata": {},
   "outputs": [],
   "source": [
    "No_Handicap = df.query('Handicap == 0')\n",
    "Handicap = df.query('Handicap > 0')"
   ]
  },
  {
   "cell_type": "code",
   "execution_count": 35,
   "metadata": {},
   "outputs": [],
   "source": [
    "No_Handicap_Mean = No_Handicap['No_show'].mean()\n",
    "Handicap_Mean = Handicap['No_show'].mean()"
   ]
  },
  {
   "cell_type": "code",
   "execution_count": 36,
   "metadata": {},
   "outputs": [
    {
     "data": {
      "text/plain": [
       "(0.20235489680011082, 0.18161535029004908)"
      ]
     },
     "execution_count": 36,
     "metadata": {},
     "output_type": "execute_result"
    }
   ],
   "source": [
    "No_Handicap_Mean,Handicap_Mean"
   ]
  },
  {
   "cell_type": "code",
   "execution_count": 37,
   "metadata": {},
   "outputs": [
    {
     "data": {
      "image/png": "[encoded data removed]",
      "text/plain": [
       "<Figure size 432x288 with 1 Axes>"
      ]
     },
     "metadata": {
      "needs_background": "light"
     },
     "output_type": "display_data"
    }
   ],
   "source": [
    "locations = [1, 2]\n",
    "heights = [No_Handicap_Mean, Handicap_Mean]\n",
    "labels = ['No_Handicap', 'Handicap']\n",
    "plt.bar(locations, heights, tick_label=labels)\n",
    "plt.title('NoHandicap VS Handicap No-Shows')\n",
    "plt.xlabel('No Handicaps VS 1 or more Handicaps')\n",
    "plt.ylabel('No-Shows');"
   ]
  },
  {
   "cell_type": "markdown",
   "metadata": {},
   "source": [
    "As mentioned earlier, Handicap 2,3 and 4 is a very small percentage of our sample so here we use query to create two categories. Patients without Handicaps and patients with Handicaps, regardless of the number.\n",
    "Following, we examine the No-Show means for the two categories both numerically and visually and what we can observe is that patients with Handicaps seem to miss medical appointments less frequently than the patients with no Handicaps. "
   ]
  },
  {
   "cell_type": "markdown",
   "metadata": {},
   "source": [
    "### Does the Neighbourhood where the appointment takes place, the time that the patients have to wait from the moment they schedule their appointments until the date of the appointment, or whether they received an SMS reminder notification plays a role in the probability of a patient not showing up at their scheduled medical appointment?"
   ]
  },
  {
   "cell_type": "markdown",
   "metadata": {
    "collapsed": true
   },
   "source": [
    "### 1. Neighbourhood"
   ]
  },
  {
   "cell_type": "code",
   "execution_count": 38,
   "metadata": {},
   "outputs": [],
   "source": [
    "NeighbourhoodStats = df.groupby('Neighbourhood')['No_show'].agg(['mean', 'count'])"
   ]
  },
  {
   "cell_type": "code",
   "execution_count": 39,
   "metadata": {},
   "outputs": [
    {
     "data": {
      "text/html": [
       "<div>\n",
       "<style scoped>\n",
       "    .dataframe tbody tr th:only-of-type {\n",
       "        vertical-align: middle;\n",
       "    }\n",
       "\n",
       "    .dataframe tbody tr th {\n",
       "        vertical-align: top;\n",
       "    }\n",
       "\n",
       "    .dataframe thead th {\n",
       "        text-align: right;\n",
       "    }\n",
       "</style>\n",
       "<table border=\"1\" class=\"dataframe\">\n",
       "  <thead>\n",
       "    <tr style=\"text-align: right;\">\n",
       "      <th></th>\n",
       "      <th>mean</th>\n",
       "      <th>count</th>\n",
       "    </tr>\n",
       "    <tr>\n",
       "      <th>Neighbourhood</th>\n",
       "      <th></th>\n",
       "      <th></th>\n",
       "    </tr>\n",
       "  </thead>\n",
       "  <tbody>\n",
       "    <tr>\n",
       "      <th>ILHAS OCEÂNICAS DE TRINDADE</th>\n",
       "      <td>1.000000</td>\n",
       "      <td>2</td>\n",
       "    </tr>\n",
       "    <tr>\n",
       "      <th>SANTOS DUMONT</th>\n",
       "      <td>0.289185</td>\n",
       "      <td>1276</td>\n",
       "    </tr>\n",
       "    <tr>\n",
       "      <th>SANTA CECÍLIA</th>\n",
       "      <td>0.274554</td>\n",
       "      <td>448</td>\n",
       "    </tr>\n",
       "    <tr>\n",
       "      <th>SANTA CLARA</th>\n",
       "      <td>0.264822</td>\n",
       "      <td>506</td>\n",
       "    </tr>\n",
       "    <tr>\n",
       "      <th>ITARARÉ</th>\n",
       "      <td>0.262664</td>\n",
       "      <td>3514</td>\n",
       "    </tr>\n",
       "    <tr>\n",
       "      <th>JESUS DE NAZARETH</th>\n",
       "      <td>0.243954</td>\n",
       "      <td>2853</td>\n",
       "    </tr>\n",
       "    <tr>\n",
       "      <th>HORTO</th>\n",
       "      <td>0.240000</td>\n",
       "      <td>175</td>\n",
       "    </tr>\n",
       "    <tr>\n",
       "      <th>ILHA DO PRÍNCIPE</th>\n",
       "      <td>0.234775</td>\n",
       "      <td>2266</td>\n",
       "    </tr>\n",
       "    <tr>\n",
       "      <th>CARATOÍRA</th>\n",
       "      <td>0.230409</td>\n",
       "      <td>2565</td>\n",
       "    </tr>\n",
       "    <tr>\n",
       "      <th>ANDORINHAS</th>\n",
       "      <td>0.230327</td>\n",
       "      <td>2262</td>\n",
       "    </tr>\n",
       "    <tr>\n",
       "      <th>PRAIA DO SUÁ</th>\n",
       "      <td>0.228261</td>\n",
       "      <td>1288</td>\n",
       "    </tr>\n",
       "    <tr>\n",
       "      <th>GURIGICA</th>\n",
       "      <td>0.225966</td>\n",
       "      <td>2018</td>\n",
       "    </tr>\n",
       "    <tr>\n",
       "      <th>BENTO FERREIRA</th>\n",
       "      <td>0.224942</td>\n",
       "      <td>858</td>\n",
       "    </tr>\n",
       "    <tr>\n",
       "      <th>PARQUE MOSCOSO</th>\n",
       "      <td>0.223192</td>\n",
       "      <td>802</td>\n",
       "    </tr>\n",
       "    <tr>\n",
       "      <th>MARUÍPE</th>\n",
       "      <td>0.222923</td>\n",
       "      <td>1902</td>\n",
       "    </tr>\n",
       "    <tr>\n",
       "      <th>DO MOSCOSO</th>\n",
       "      <td>0.222760</td>\n",
       "      <td>413</td>\n",
       "    </tr>\n",
       "    <tr>\n",
       "      <th>ENSEADA DO SUÁ</th>\n",
       "      <td>0.221277</td>\n",
       "      <td>235</td>\n",
       "    </tr>\n",
       "    <tr>\n",
       "      <th>ARIOVALDO FAVALESSA</th>\n",
       "      <td>0.219858</td>\n",
       "      <td>282</td>\n",
       "    </tr>\n",
       "    <tr>\n",
       "      <th>ILHA DAS CAIEIRAS</th>\n",
       "      <td>0.219421</td>\n",
       "      <td>1071</td>\n",
       "    </tr>\n",
       "    <tr>\n",
       "      <th>FONTE GRANDE</th>\n",
       "      <td>0.218475</td>\n",
       "      <td>682</td>\n",
       "    </tr>\n",
       "    <tr>\n",
       "      <th>CRUZAMENTO</th>\n",
       "      <td>0.217454</td>\n",
       "      <td>1398</td>\n",
       "    </tr>\n",
       "    <tr>\n",
       "      <th>SÃO JOSÉ</th>\n",
       "      <td>0.216490</td>\n",
       "      <td>1977</td>\n",
       "    </tr>\n",
       "    <tr>\n",
       "      <th>BARRO VERMELHO</th>\n",
       "      <td>0.215130</td>\n",
       "      <td>423</td>\n",
       "    </tr>\n",
       "    <tr>\n",
       "      <th>NAZARETH</th>\n",
       "      <td>0.214815</td>\n",
       "      <td>135</td>\n",
       "    </tr>\n",
       "    <tr>\n",
       "      <th>ROMÃO</th>\n",
       "      <td>0.214092</td>\n",
       "      <td>2214</td>\n",
       "    </tr>\n",
       "    <tr>\n",
       "      <th>CENTRO</th>\n",
       "      <td>0.210858</td>\n",
       "      <td>3334</td>\n",
       "    </tr>\n",
       "    <tr>\n",
       "      <th>UNIVERSITÁRIO</th>\n",
       "      <td>0.210526</td>\n",
       "      <td>152</td>\n",
       "    </tr>\n",
       "    <tr>\n",
       "      <th>SÃO PEDRO</th>\n",
       "      <td>0.210376</td>\n",
       "      <td>2448</td>\n",
       "    </tr>\n",
       "    <tr>\n",
       "      <th>MARIA ORTIZ</th>\n",
       "      <td>0.209991</td>\n",
       "      <td>5805</td>\n",
       "    </tr>\n",
       "    <tr>\n",
       "      <th>SANTA HELENA</th>\n",
       "      <td>0.207865</td>\n",
       "      <td>178</td>\n",
       "    </tr>\n",
       "    <tr>\n",
       "      <th>SANTOS REIS</th>\n",
       "      <td>0.204753</td>\n",
       "      <td>547</td>\n",
       "    </tr>\n",
       "    <tr>\n",
       "      <th>RESISTÊNCIA</th>\n",
       "      <td>0.204469</td>\n",
       "      <td>4431</td>\n",
       "    </tr>\n",
       "    <tr>\n",
       "      <th>SANTA TEREZA</th>\n",
       "      <td>0.204204</td>\n",
       "      <td>1332</td>\n",
       "    </tr>\n",
       "    <tr>\n",
       "      <th>GRANDE VITÓRIA</th>\n",
       "      <td>0.202614</td>\n",
       "      <td>1071</td>\n",
       "    </tr>\n",
       "    <tr>\n",
       "      <th>MONTE BELO</th>\n",
       "      <td>0.201456</td>\n",
       "      <td>824</td>\n",
       "    </tr>\n",
       "    <tr>\n",
       "      <th>BELA VISTA</th>\n",
       "      <td>0.201363</td>\n",
       "      <td>1907</td>\n",
       "    </tr>\n",
       "    <tr>\n",
       "      <th>ILHA DO FRADE</th>\n",
       "      <td>0.200000</td>\n",
       "      <td>10</td>\n",
       "    </tr>\n",
       "    <tr>\n",
       "      <th>SÃO BENEDITO</th>\n",
       "      <td>0.199444</td>\n",
       "      <td>1439</td>\n",
       "    </tr>\n",
       "    <tr>\n",
       "      <th>BONFIM</th>\n",
       "      <td>0.198341</td>\n",
       "      <td>2773</td>\n",
       "    </tr>\n",
       "    <tr>\n",
       "      <th>SÃO CRISTÓVÃO</th>\n",
       "      <td>0.197712</td>\n",
       "      <td>1836</td>\n",
       "    </tr>\n",
       "    <tr>\n",
       "      <th>SANTO ANDRÉ</th>\n",
       "      <td>0.197588</td>\n",
       "      <td>2571</td>\n",
       "    </tr>\n",
       "    <tr>\n",
       "      <th>ESTRELINHA</th>\n",
       "      <td>0.197026</td>\n",
       "      <td>538</td>\n",
       "    </tr>\n",
       "    <tr>\n",
       "      <th>SANTA LÚCIA</th>\n",
       "      <td>0.196347</td>\n",
       "      <td>438</td>\n",
       "    </tr>\n",
       "    <tr>\n",
       "      <th>GOIABEIRAS</th>\n",
       "      <td>0.195714</td>\n",
       "      <td>700</td>\n",
       "    </tr>\n",
       "    <tr>\n",
       "      <th>PIEDADE</th>\n",
       "      <td>0.194690</td>\n",
       "      <td>452</td>\n",
       "    </tr>\n",
       "    <tr>\n",
       "      <th>DA PENHA</th>\n",
       "      <td>0.193505</td>\n",
       "      <td>2217</td>\n",
       "    </tr>\n",
       "    <tr>\n",
       "      <th>SEGURANÇA DO LAR</th>\n",
       "      <td>0.193103</td>\n",
       "      <td>145</td>\n",
       "    </tr>\n",
       "    <tr>\n",
       "      <th>JUCUTUQUARA</th>\n",
       "      <td>0.191643</td>\n",
       "      <td>694</td>\n",
       "    </tr>\n",
       "    <tr>\n",
       "      <th>ILHA DE SANTA MARIA</th>\n",
       "      <td>0.191512</td>\n",
       "      <td>1885</td>\n",
       "    </tr>\n",
       "    <tr>\n",
       "      <th>INHANGUETÁ</th>\n",
       "      <td>0.191107</td>\n",
       "      <td>1057</td>\n",
       "    </tr>\n",
       "    <tr>\n",
       "      <th>JARDIM CAMBURI</th>\n",
       "      <td>0.189841</td>\n",
       "      <td>7717</td>\n",
       "    </tr>\n",
       "    <tr>\n",
       "      <th>CONQUISTA</th>\n",
       "      <td>0.188457</td>\n",
       "      <td>849</td>\n",
       "    </tr>\n",
       "    <tr>\n",
       "      <th>FRADINHOS</th>\n",
       "      <td>0.186047</td>\n",
       "      <td>258</td>\n",
       "    </tr>\n",
       "    <tr>\n",
       "      <th>BOA VISTA</th>\n",
       "      <td>0.185897</td>\n",
       "      <td>312</td>\n",
       "    </tr>\n",
       "    <tr>\n",
       "      <th>ANTÔNIO HONÓRIO</th>\n",
       "      <td>0.184502</td>\n",
       "      <td>271</td>\n",
       "    </tr>\n",
       "    <tr>\n",
       "      <th>PRAIA DO CANTO</th>\n",
       "      <td>0.183575</td>\n",
       "      <td>1035</td>\n",
       "    </tr>\n",
       "    <tr>\n",
       "      <th>FORTE SÃO JOÃO</th>\n",
       "      <td>0.183166</td>\n",
       "      <td>1889</td>\n",
       "    </tr>\n",
       "    <tr>\n",
       "      <th>TABUAZEIRO</th>\n",
       "      <td>0.182950</td>\n",
       "      <td>3132</td>\n",
       "    </tr>\n",
       "    <tr>\n",
       "      <th>JOANA D´ARC</th>\n",
       "      <td>0.180799</td>\n",
       "      <td>1427</td>\n",
       "    </tr>\n",
       "    <tr>\n",
       "      <th>COMDUSA</th>\n",
       "      <td>0.180645</td>\n",
       "      <td>310</td>\n",
       "    </tr>\n",
       "  </tbody>\n",
       "</table>\n",
       "</div>"
      ],
      "text/plain": [
       "                                 mean  count\n",
       "Neighbourhood                               \n",
       "ILHAS OCEÂNICAS DE TRINDADE  1.000000      2\n",
       "SANTOS DUMONT                0.289185   1276\n",
       "SANTA CECÍLIA                0.274554    448\n",
       "SANTA CLARA                  0.264822    506\n",
       "ITARARÉ                      0.262664   3514\n",
       "JESUS DE NAZARETH            0.243954   2853\n",
       "HORTO                        0.240000    175\n",
       "ILHA DO PRÍNCIPE             0.234775   2266\n",
       "CARATOÍRA                    0.230409   2565\n",
       "ANDORINHAS                   0.230327   2262\n",
       "PRAIA DO SUÁ                 0.228261   1288\n",
       "GURIGICA                     0.225966   2018\n",
       "BENTO FERREIRA               0.224942    858\n",
       "PARQUE MOSCOSO               0.223192    802\n",
       "MARUÍPE                      0.222923   1902\n",
       "DO MOSCOSO                   0.222760    413\n",
       "ENSEADA DO SUÁ               0.221277    235\n",
       "ARIOVALDO FAVALESSA          0.219858    282\n",
       "ILHA DAS CAIEIRAS            0.219421   1071\n",
       "FONTE GRANDE                 0.218475    682\n",
       "CRUZAMENTO                   0.217454   1398\n",
       "SÃO JOSÉ                     0.216490   1977\n",
       "BARRO VERMELHO               0.215130    423\n",
       "NAZARETH                     0.214815    135\n",
       "ROMÃO                        0.214092   2214\n",
       "CENTRO                       0.210858   3334\n",
       "UNIVERSITÁRIO                0.210526    152\n",
       "SÃO PEDRO                    0.210376   2448\n",
       "MARIA ORTIZ                  0.209991   5805\n",
       "SANTA HELENA                 0.207865    178\n",
       "SANTOS REIS                  0.204753    547\n",
       "RESISTÊNCIA                  0.204469   4431\n",
       "SANTA TEREZA                 0.204204   1332\n",
       "GRANDE VITÓRIA               0.202614   1071\n",
       "MONTE BELO                   0.201456    824\n",
       "BELA VISTA                   0.201363   1907\n",
       "ILHA DO FRADE                0.200000     10\n",
       "SÃO BENEDITO                 0.199444   1439\n",
       "BONFIM                       0.198341   2773\n",
       "SÃO CRISTÓVÃO                0.197712   1836\n",
       "SANTO ANDRÉ                  0.197588   2571\n",
       "ESTRELINHA                   0.197026    538\n",
       "SANTA LÚCIA                  0.196347    438\n",
       "GOIABEIRAS                   0.195714    700\n",
       "PIEDADE                      0.194690    452\n",
       "DA PENHA                     0.193505   2217\n",
       "SEGURANÇA DO LAR             0.193103    145\n",
       "JUCUTUQUARA                  0.191643    694\n",
       "ILHA DE SANTA MARIA          0.191512   1885\n",
       "INHANGUETÁ                   0.191107   1057\n",
       "JARDIM CAMBURI               0.189841   7717\n",
       "CONQUISTA                    0.188457    849\n",
       "FRADINHOS                    0.186047    258\n",
       "BOA VISTA                    0.185897    312\n",
       "ANTÔNIO HONÓRIO              0.184502    271\n",
       "PRAIA DO CANTO               0.183575   1035\n",
       "FORTE SÃO JOÃO               0.183166   1889\n",
       "TABUAZEIRO                   0.182950   3132\n",
       "JOANA D´ARC                  0.180799   1427\n",
       "COMDUSA                      0.180645    310"
      ]
     },
     "execution_count": 39,
     "metadata": {},
     "output_type": "execute_result"
    }
   ],
   "source": [
    "NeighbourhoodStats.sort_values(by='mean',ascending=False).head(60)"
   ]
  },
  {
   "cell_type": "markdown",
   "metadata": {},
   "source": [
    "Here we group the Neighbourhoods where the appointments take place by the No-Shows, we use the aggregate operation for the mean and the count and we sort the results by the highest No-Show mean. This way we have a better understanding of where patients more frequently miss their appointments. This might be an indication of a dangerous neighbourhood or a hospital in the neighbourhood with bad reputation that patients tend to avoid."
   ]
  },
  {
   "cell_type": "code",
   "execution_count": 40,
   "metadata": {},
   "outputs": [
    {
     "data": {
      "text/html": [
       "<div>\n",
       "<style scoped>\n",
       "    .dataframe tbody tr th:only-of-type {\n",
       "        vertical-align: middle;\n",
       "    }\n",
       "\n",
       "    .dataframe tbody tr th {\n",
       "        vertical-align: top;\n",
       "    }\n",
       "\n",
       "    .dataframe thead th {\n",
       "        text-align: right;\n",
       "    }\n",
       "</style>\n",
       "<table border=\"1\" class=\"dataframe\">\n",
       "  <thead>\n",
       "    <tr style=\"text-align: right;\">\n",
       "      <th></th>\n",
       "      <th>mean</th>\n",
       "      <th>count</th>\n",
       "    </tr>\n",
       "  </thead>\n",
       "  <tbody>\n",
       "    <tr>\n",
       "      <th>count</th>\n",
       "      <td>81.000000</td>\n",
       "      <td>81.000000</td>\n",
       "    </tr>\n",
       "    <tr>\n",
       "      <th>mean</th>\n",
       "      <td>0.205428</td>\n",
       "      <td>1364.518519</td>\n",
       "    </tr>\n",
       "    <tr>\n",
       "      <th>std</th>\n",
       "      <td>0.097230</td>\n",
       "      <td>1369.191779</td>\n",
       "    </tr>\n",
       "    <tr>\n",
       "      <th>min</th>\n",
       "      <td>0.000000</td>\n",
       "      <td>1.000000</td>\n",
       "    </tr>\n",
       "    <tr>\n",
       "      <th>25%</th>\n",
       "      <td>0.179907</td>\n",
       "      <td>413.000000</td>\n",
       "    </tr>\n",
       "    <tr>\n",
       "      <th>50%</th>\n",
       "      <td>0.197588</td>\n",
       "      <td>851.000000</td>\n",
       "    </tr>\n",
       "    <tr>\n",
       "      <th>75%</th>\n",
       "      <td>0.217454</td>\n",
       "      <td>2018.000000</td>\n",
       "    </tr>\n",
       "    <tr>\n",
       "      <th>max</th>\n",
       "      <td>1.000000</td>\n",
       "      <td>7717.000000</td>\n",
       "    </tr>\n",
       "  </tbody>\n",
       "</table>\n",
       "</div>"
      ],
      "text/plain": [
       "            mean        count\n",
       "count  81.000000    81.000000\n",
       "mean    0.205428  1364.518519\n",
       "std     0.097230  1369.191779\n",
       "min     0.000000     1.000000\n",
       "25%     0.179907   413.000000\n",
       "50%     0.197588   851.000000\n",
       "75%     0.217454  2018.000000\n",
       "max     1.000000  7717.000000"
      ]
     },
     "execution_count": 40,
     "metadata": {},
     "output_type": "execute_result"
    }
   ],
   "source": [
    "NeighbourhoodStats.describe()"
   ]
  },
  {
   "cell_type": "code",
   "execution_count": 41,
   "metadata": {},
   "outputs": [
    {
     "data": {
      "text/html": [
       "<div>\n",
       "<style scoped>\n",
       "    .dataframe tbody tr th:only-of-type {\n",
       "        vertical-align: middle;\n",
       "    }\n",
       "\n",
       "    .dataframe tbody tr th {\n",
       "        vertical-align: top;\n",
       "    }\n",
       "\n",
       "    .dataframe thead th {\n",
       "        text-align: right;\n",
       "    }\n",
       "</style>\n",
       "<table border=\"1\" class=\"dataframe\">\n",
       "  <thead>\n",
       "    <tr style=\"text-align: right;\">\n",
       "      <th></th>\n",
       "      <th>mean</th>\n",
       "      <th>count</th>\n",
       "    </tr>\n",
       "    <tr>\n",
       "      <th>Neighbourhood</th>\n",
       "      <th></th>\n",
       "      <th></th>\n",
       "    </tr>\n",
       "  </thead>\n",
       "  <tbody>\n",
       "    <tr>\n",
       "      <th>JARDIM CAMBURI</th>\n",
       "      <td>0.189841</td>\n",
       "      <td>7717</td>\n",
       "    </tr>\n",
       "  </tbody>\n",
       "</table>\n",
       "</div>"
      ],
      "text/plain": [
       "                    mean  count\n",
       "Neighbourhood                  \n",
       "JARDIM CAMBURI  0.189841   7717"
      ]
     },
     "execution_count": 41,
     "metadata": {},
     "output_type": "execute_result"
    }
   ],
   "source": [
    "NeighbourhoodStats.query('count == 7717')"
   ]
  },
  {
   "cell_type": "markdown",
   "metadata": {},
   "source": [
    "We use investigate the Neighbourhood column a little further to find out the mean values of the No-Shows means and counts as well as the max count as an example. Jardim Camburi is the neighbourhood with the most appointments and the No-Show mean is below the overall No-Show mean."
   ]
  },
  {
   "cell_type": "code",
   "execution_count": 42,
   "metadata": {},
   "outputs": [
    {
     "data": {
      "text/html": [
       "<div>\n",
       "<style scoped>\n",
       "    .dataframe tbody tr th:only-of-type {\n",
       "        vertical-align: middle;\n",
       "    }\n",
       "\n",
       "    .dataframe tbody tr th {\n",
       "        vertical-align: top;\n",
       "    }\n",
       "\n",
       "    .dataframe thead th {\n",
       "        text-align: right;\n",
       "    }\n",
       "</style>\n",
       "<table border=\"1\" class=\"dataframe\">\n",
       "  <thead>\n",
       "    <tr style=\"text-align: right;\">\n",
       "      <th></th>\n",
       "      <th>mean</th>\n",
       "      <th>count</th>\n",
       "    </tr>\n",
       "    <tr>\n",
       "      <th>Neighbourhood</th>\n",
       "      <th></th>\n",
       "      <th></th>\n",
       "    </tr>\n",
       "  </thead>\n",
       "  <tbody>\n",
       "    <tr>\n",
       "      <th>ITARARÉ</th>\n",
       "      <td>0.262664</td>\n",
       "      <td>3514</td>\n",
       "    </tr>\n",
       "    <tr>\n",
       "      <th>JESUS DE NAZARETH</th>\n",
       "      <td>0.243954</td>\n",
       "      <td>2853</td>\n",
       "    </tr>\n",
       "    <tr>\n",
       "      <th>ILHA DO PRÍNCIPE</th>\n",
       "      <td>0.234775</td>\n",
       "      <td>2266</td>\n",
       "    </tr>\n",
       "    <tr>\n",
       "      <th>CARATOÍRA</th>\n",
       "      <td>0.230409</td>\n",
       "      <td>2565</td>\n",
       "    </tr>\n",
       "    <tr>\n",
       "      <th>ANDORINHAS</th>\n",
       "      <td>0.230327</td>\n",
       "      <td>2262</td>\n",
       "    </tr>\n",
       "    <tr>\n",
       "      <th>GURIGICA</th>\n",
       "      <td>0.225966</td>\n",
       "      <td>2018</td>\n",
       "    </tr>\n",
       "    <tr>\n",
       "      <th>MARUÍPE</th>\n",
       "      <td>0.222923</td>\n",
       "      <td>1902</td>\n",
       "    </tr>\n",
       "    <tr>\n",
       "      <th>CRUZAMENTO</th>\n",
       "      <td>0.217454</td>\n",
       "      <td>1398</td>\n",
       "    </tr>\n",
       "    <tr>\n",
       "      <th>SÃO JOSÉ</th>\n",
       "      <td>0.216490</td>\n",
       "      <td>1977</td>\n",
       "    </tr>\n",
       "    <tr>\n",
       "      <th>ROMÃO</th>\n",
       "      <td>0.214092</td>\n",
       "      <td>2214</td>\n",
       "    </tr>\n",
       "  </tbody>\n",
       "</table>\n",
       "</div>"
      ],
      "text/plain": [
       "                       mean  count\n",
       "Neighbourhood                     \n",
       "ITARARÉ            0.262664   3514\n",
       "JESUS DE NAZARETH  0.243954   2853\n",
       "ILHA DO PRÍNCIPE   0.234775   2266\n",
       "CARATOÍRA          0.230409   2565\n",
       "ANDORINHAS         0.230327   2262\n",
       "GURIGICA           0.225966   2018\n",
       "MARUÍPE            0.222923   1902\n",
       "CRUZAMENTO         0.217454   1398\n",
       "SÃO JOSÉ           0.216490   1977\n",
       "ROMÃO              0.214092   2214"
      ]
     },
     "execution_count": 42,
     "metadata": {},
     "output_type": "execute_result"
    }
   ],
   "source": [
    "MoreThanMean = NeighbourhoodStats.query('count > 1364')\n",
    "\n",
    "\n",
    "MoreThanMean.sort_values(by='mean',ascending=False).head(10)"
   ]
  },
  {
   "cell_type": "markdown",
   "metadata": {},
   "source": [
    "Here we filter with query to find out the top 10 No-Show neighbourhoods with a number of appointments over the mean number of appointments. We could also filter per percentiles but this gives a good understanding of the busy neighbourhoods with high No-Show probability. Below there is a horizontal bar graph that shows the top 10 No-Show neighbourhoods in relation to the overall No-Show mean."
   ]
  },
  {
   "cell_type": "code",
   "execution_count": 43,
   "metadata": {},
   "outputs": [
    {
     "data": {
      "image/png": "[encoded data removed]",
      "text/plain": [
       "<Figure size 1080x720 with 1 Axes>"
      ]
     },
     "metadata": {
      "needs_background": "light"
     },
     "output_type": "display_data"
    }
   ],
   "source": [
    "MoreThanMean['mean'].sort_values().tail(10).plot(kind='barh', figsize=(15, 10),label = \"Neighbourhood's No-Show Mean\")\n",
    "plt.axvline(0.205428, label = \"All Neighbourhoods' No-Show Mean\", color='black', alpha=0.65)\n",
    "plt.title('Highest No-Show Neighbourhoods', fontsize=22)\n",
    "plt.xlabel('No-Show Mean')\n",
    "plt.legend(loc='upper center', bbox_to_anchor=(0.5, -0.05),fancybox=True, shadow=True, ncol=5);"
   ]
  },
  {
   "cell_type": "code",
   "execution_count": 44,
   "metadata": {},
   "outputs": [
    {
     "data": {
      "text/html": [
       "<div>\n",
       "<style scoped>\n",
       "    .dataframe tbody tr th:only-of-type {\n",
       "        vertical-align: middle;\n",
       "    }\n",
       "\n",
       "    .dataframe tbody tr th {\n",
       "        vertical-align: top;\n",
       "    }\n",
       "\n",
       "    .dataframe thead th {\n",
       "        text-align: right;\n",
       "    }\n",
       "</style>\n",
       "<table border=\"1\" class=\"dataframe\">\n",
       "  <thead>\n",
       "    <tr style=\"text-align: right;\">\n",
       "      <th></th>\n",
       "      <th>mean</th>\n",
       "      <th>count</th>\n",
       "    </tr>\n",
       "    <tr>\n",
       "      <th>Neighbourhood</th>\n",
       "      <th></th>\n",
       "      <th></th>\n",
       "    </tr>\n",
       "  </thead>\n",
       "  <tbody>\n",
       "    <tr>\n",
       "      <th>SANTA MARTHA</th>\n",
       "      <td>0.158416</td>\n",
       "      <td>3131</td>\n",
       "    </tr>\n",
       "    <tr>\n",
       "      <th>JARDIM DA PENHA</th>\n",
       "      <td>0.162755</td>\n",
       "      <td>3877</td>\n",
       "    </tr>\n",
       "    <tr>\n",
       "      <th>CONSOLAÇÃO</th>\n",
       "      <td>0.172238</td>\n",
       "      <td>1376</td>\n",
       "    </tr>\n",
       "    <tr>\n",
       "      <th>SANTO ANTÔNIO</th>\n",
       "      <td>0.176256</td>\n",
       "      <td>2746</td>\n",
       "    </tr>\n",
       "    <tr>\n",
       "      <th>REDENÇÃO</th>\n",
       "      <td>0.177077</td>\n",
       "      <td>1553</td>\n",
       "    </tr>\n",
       "    <tr>\n",
       "      <th>NOVA PALESTINA</th>\n",
       "      <td>0.177562</td>\n",
       "      <td>2264</td>\n",
       "    </tr>\n",
       "    <tr>\n",
       "      <th>JABOUR</th>\n",
       "      <td>0.179753</td>\n",
       "      <td>2509</td>\n",
       "    </tr>\n",
       "    <tr>\n",
       "      <th>JOANA D´ARC</th>\n",
       "      <td>0.180799</td>\n",
       "      <td>1427</td>\n",
       "    </tr>\n",
       "    <tr>\n",
       "      <th>TABUAZEIRO</th>\n",
       "      <td>0.182950</td>\n",
       "      <td>3132</td>\n",
       "    </tr>\n",
       "    <tr>\n",
       "      <th>FORTE SÃO JOÃO</th>\n",
       "      <td>0.183166</td>\n",
       "      <td>1889</td>\n",
       "    </tr>\n",
       "  </tbody>\n",
       "</table>\n",
       "</div>"
      ],
      "text/plain": [
       "                     mean  count\n",
       "Neighbourhood                   \n",
       "SANTA MARTHA     0.158416   3131\n",
       "JARDIM DA PENHA  0.162755   3877\n",
       "CONSOLAÇÃO       0.172238   1376\n",
       "SANTO ANTÔNIO    0.176256   2746\n",
       "REDENÇÃO         0.177077   1553\n",
       "NOVA PALESTINA   0.177562   2264\n",
       "JABOUR           0.179753   2509\n",
       "JOANA D´ARC      0.180799   1427\n",
       "TABUAZEIRO       0.182950   3132\n",
       "FORTE SÃO JOÃO   0.183166   1889"
      ]
     },
     "execution_count": 44,
     "metadata": {},
     "output_type": "execute_result"
    }
   ],
   "source": [
    "MoreThanMean = NeighbourhoodStats.query('count > 1364')\n",
    "\n",
    "\n",
    "MoreThanMean.sort_values(by='mean').head(10)"
   ]
  },
  {
   "cell_type": "code",
   "execution_count": 45,
   "metadata": {},
   "outputs": [
    {
     "data": {
      "image/png": "[encoded data removed]",
      "text/plain": [
       "<Figure size 1080x720 with 1 Axes>"
      ]
     },
     "metadata": {
      "needs_background": "light"
     },
     "output_type": "display_data"
    }
   ],
   "source": [
    "MoreThanMean['mean'].sort_values(ascending=False).tail(10).plot(kind='barh',color='green', figsize=(15, 10),label = \"Neighbourhood's No-Show Mean\")\n",
    "plt.axvline(0.205428, label = \"All Neighbourhoods' No-Show Mean\", color='black', alpha=0.65)\n",
    "plt.title('Lowest, No-Show Neighbourhoods', fontsize=22)\n",
    "plt.xlabel('No-Show Mean')\n",
    "plt.legend(loc='upper center', bbox_to_anchor=(0.5, -0.05),fancybox=True, shadow=True, ncol=5);"
   ]
  },
  {
   "cell_type": "markdown",
   "metadata": {},
   "source": [
    "Similarly, we filter with query to find out the bottom 10 No-Show neighbourhoods with a number of appointments over the mean number of appointments."
   ]
  },
  {
   "cell_type": "markdown",
   "metadata": {},
   "source": [
    "### 2. Waiting Time"
   ]
  },
  {
   "cell_type": "code",
   "execution_count": 46,
   "metadata": {},
   "outputs": [],
   "source": [
    "AwTime1 = df.query('AwaitingTime < 1')\n",
    "AwTime1_7 = df.query('AwaitingTime > 1 & AwaitingTime <= 7')\n",
    "AwTime7Plus = df.query('AwaitingTime > 7')"
   ]
  },
  {
   "cell_type": "code",
   "execution_count": 47,
   "metadata": {},
   "outputs": [
    {
     "data": {
      "text/plain": [
       "(0.06636207881210737, 0.24702524372613707, 0.32056117061396894)"
      ]
     },
     "execution_count": 47,
     "metadata": {},
     "output_type": "execute_result"
    }
   ],
   "source": [
    "One_Day_Wait=AwTime1.No_show.mean()\n",
    "One_Week_Wait=AwTime1_7.No_show.mean()\n",
    "More_than_One_Week=AwTime7Plus.No_show.mean()\n",
    "\n",
    "One_Day_Wait,One_Week_Wait,More_than_One_Week"
   ]
  },
  {
   "cell_type": "markdown",
   "metadata": {},
   "source": [
    "Here we filter the new column AwaitingTime using query in order to examine if the time that a patient needs to wait from the time they schedule their appointment until the actual time of the appointment plays a role in missing their appointments.\n",
    "We create three masks, one for patients that schedule their appointment within a day, one for patients that schedule their appointment within a week and one for patients that schedule their appointment for day more than a week later."
   ]
  },
  {
   "cell_type": "code",
   "execution_count": 48,
   "metadata": {},
   "outputs": [
    {
     "data": {
      "image/png": "[encoded data removed]",
      "text/plain": [
       "<Figure size 432x288 with 1 Axes>"
      ]
     },
     "metadata": {
      "needs_background": "light"
     },
     "output_type": "display_data"
    }
   ],
   "source": [
    "plt.bar(['Up to a day','Within a week','More than a week'],[One_Day_Wait,One_Week_Wait,More_than_One_Week])\n",
    "plt.title('Relation between waiting time and No-Shows', fontsize=20)\n",
    "plt.xlabel('Waiting Time', fontsize=17)\n",
    "plt.ylabel('No-Shows', fontsize=17);"
   ]
  },
  {
   "cell_type": "markdown",
   "metadata": {},
   "source": [
    "This bar graph clearly shows that the longer the waiting time the higher the possibility of a patient missing their scheduled  appointments."
   ]
  },
  {
   "cell_type": "markdown",
   "metadata": {},
   "source": [
    "### 3. SMS Received"
   ]
  },
  {
   "cell_type": "code",
   "execution_count": 49,
   "metadata": {},
   "outputs": [
    {
     "data": {
      "text/plain": [
       "SMS_received\n",
       "0    0.167035\n",
       "1    0.275745\n",
       "Name: No_show, dtype: float64"
      ]
     },
     "execution_count": 49,
     "metadata": {},
     "output_type": "execute_result"
    }
   ],
   "source": [
    "df.groupby('SMS_received').No_show.mean()"
   ]
  },
  {
   "cell_type": "code",
   "execution_count": 50,
   "metadata": {},
   "outputs": [
    {
     "data": {
      "image/png": "[encoded data removed]",
      "text/plain": [
       "<Figure size 432x288 with 1 Axes>"
      ]
     },
     "metadata": {
      "needs_background": "light"
     },
     "output_type": "display_data"
    }
   ],
   "source": [
    "df.groupby('SMS_received').No_show.mean().plot(kind='bar');"
   ]
  },
  {
   "cell_type": "markdown",
   "metadata": {},
   "source": [
    "Lastly, we examine whether an SMS reminder plays a role in order patients not to miss their scheduled appointments.\n",
    "\n",
    "With a first look, we notice something strange. The No-Show mean for patients that received an SMS reminder is higher than the ones that did not receive one. This does not make much sense, so we will further investigate. We will try to find out which patients receive an SMS reminder and which don't."
   ]
  },
  {
   "cell_type": "code",
   "execution_count": 51,
   "metadata": {},
   "outputs": [
    {
     "data": {
      "text/plain": [
       "(0, 11548, 23934)"
      ]
     },
     "execution_count": 51,
     "metadata": {},
     "output_type": "execute_result"
    }
   ],
   "source": [
    "SMS__Received_AwTime1 = AwTime1.query('SMS_received == 1')\n",
    "\n",
    "SMS__Received_AwTime1_7 = AwTime1_7.query('SMS_received == 1')\n",
    "\n",
    "SMS__Received_AwTime7Plus = AwTime7Plus.query('SMS_received == 1')\n",
    "\n",
    "SMS__Received_AwTime1.shape[0], SMS__Received_AwTime1_7.shape[0], SMS__Received_AwTime7Plus.shape[0]\n"
   ]
  },
  {
   "cell_type": "markdown",
   "metadata": {},
   "source": [
    "With the help of the masks we created earlier, we filter again our data for scheduled appointments where the patients had been notified by SMS for their appointment. We notice that there is no SMS reminder for appointments that were scheduled within 24 hours and that the later the appointment is scheduled the more frequent the SMS reminders, which is logical and is to be expected in anyway."
   ]
  },
  {
   "cell_type": "code",
   "execution_count": 52,
   "metadata": {},
   "outputs": [],
   "source": [
    "AwTime1Plus = df.query('AwaitingTime > 1')"
   ]
  },
  {
   "cell_type": "code",
   "execution_count": 53,
   "metadata": {},
   "outputs": [
    {
     "data": {
      "text/plain": [
       "(39.60606554113964, 60.39393445886036)"
      ]
     },
     "execution_count": 53,
     "metadata": {},
     "output_type": "execute_result"
    }
   ],
   "source": [
    "AT1=AwTime1.shape[0]*100/df.shape[0]\n",
    "ATPlus=AwTime1Plus.shape[0]*100/df.shape[0]\n",
    "AT1,ATPlus"
   ]
  },
  {
   "cell_type": "code",
   "execution_count": 54,
   "metadata": {},
   "outputs": [
    {
     "data": {
      "image/png": "[encoded data removed]",
      "text/plain": [
       "<Figure size 432x288 with 1 Axes>"
      ]
     },
     "metadata": {},
     "output_type": "display_data"
    }
   ],
   "source": [
    "labels = 'Appointments within 24 hours', 'Appointments in more than 24 hours'\n",
    "sizes = [AT1, ATPlus]\n",
    "\n",
    "fig1, AT = plt.subplots()\n",
    "AT.pie(sizes, explode=(0.1,0), labels=labels, autopct='%1.1f%%', shadow=True, startangle=90)\n",
    "\n",
    "plt.show()"
   ]
  },
  {
   "cell_type": "markdown",
   "metadata": {},
   "source": [
    "Here we try to find out the percentage of appointments that happened within 24 days. We see it is 39.6% which is too high and this is why the No-Shows' mean appeared higher for the patients that received an SMS reminder.\n",
    "\n",
    "It makes more sense to examine the same thing for the patients that scheduled their appointments for a timeframe greater than 24 hours, but before we will check the percentage of patients who received an SMS reminder"
   ]
  },
  {
   "cell_type": "code",
   "execution_count": 55,
   "metadata": {},
   "outputs": [],
   "source": [
    "SMS_Received=AwTime1Plus.query('SMS_received == 1')\n",
    "SMS_Not_Received=AwTime1Plus.query('SMS_received == 0')"
   ]
  },
  {
   "cell_type": "code",
   "execution_count": 56,
   "metadata": {},
   "outputs": [
    {
     "data": {
      "text/plain": [
       "(53.15575796617279, 46.84424203382721)"
      ]
     },
     "execution_count": 56,
     "metadata": {},
     "output_type": "execute_result"
    }
   ],
   "source": [
    "SMS_R=SMS_Received.shape[0]*100/AwTime1Plus.shape[0]\n",
    "SMS_N_R=SMS_Not_Received.shape[0]*100/AwTime1Plus.shape[0]\n",
    "\n",
    "SMS_R,SMS_N_R"
   ]
  },
  {
   "cell_type": "code",
   "execution_count": 57,
   "metadata": {},
   "outputs": [
    {
     "data": {
      "image/png": "[encoded data removed]",
      "text/plain": [
       "<Figure size 432x288 with 1 Axes>"
      ]
     },
     "metadata": {},
     "output_type": "display_data"
    }
   ],
   "source": [
    "labels = 'Patients who received an SMS reminder', 'Patients who did not received an SMS reminder'\n",
    "sizes = [SMS_R, SMS_N_R]\n",
    "\n",
    "fig1, AT = plt.subplots()\n",
    "AT.pie(sizes, labels=labels, explode=(0.1,0), shadow=True, startangle=90, autopct='%1.1f%%')\n",
    "\n",
    "plt.show()"
   ]
  },
  {
   "cell_type": "markdown",
   "metadata": {},
   "source": [
    "Here everything looks normal. It seems like roughly 1 out of 2 patients that scheduled their appointments for a timeframe greater than 24 hours received an SMS reminder"
   ]
  },
  {
   "cell_type": "code",
   "execution_count": 58,
   "metadata": {},
   "outputs": [
    {
     "data": {
      "text/plain": [
       "SMS_received\n",
       "0    0.307973\n",
       "1    0.275745\n",
       "Name: No_show, dtype: float64"
      ]
     },
     "execution_count": 58,
     "metadata": {},
     "output_type": "execute_result"
    }
   ],
   "source": [
    "AwTime1Plus.groupby('SMS_received').No_show.mean()"
   ]
  },
  {
   "cell_type": "code",
   "execution_count": 59,
   "metadata": {},
   "outputs": [
    {
     "data": {
      "image/png": "[encoded data removed]",
      "text/plain": [
       "<Figure size 432x288 with 1 Axes>"
      ]
     },
     "metadata": {
      "needs_background": "light"
     },
     "output_type": "display_data"
    }
   ],
   "source": [
    "AwTime1Plus.groupby('SMS_received').No_show.mean().plot(kind='bar');"
   ]
  },
  {
   "cell_type": "markdown",
   "metadata": {},
   "source": [
    "This time the results seem to make more sense. There seems to be a tendency for the patients who received SMS reminders to miss their appointments less frequently.\n",
    "\n",
    "Since we have the masks for the waiting times, we can investigate further for these waiting times categories and see if the combination of the SMS reminder with a larger waiting time helps patients attend their appointments."
   ]
  },
  {
   "cell_type": "code",
   "execution_count": 60,
   "metadata": {},
   "outputs": [],
   "source": [
    "SMS__Received_AwTime1_7 = AwTime1_7.query('SMS_received == 1')\n",
    "SMS_No_Show_1_7 = SMS__Received_AwTime1_7.No_show.mean()"
   ]
  },
  {
   "cell_type": "code",
   "execution_count": 61,
   "metadata": {},
   "outputs": [],
   "source": [
    "SMS_Not_Received_AwTime1_7 = AwTime1_7.query('SMS_received == 0')\n",
    "SMS_No_Show_Not_SMS_Received_1_7=SMS_Not_Received_AwTime1_7.No_show.mean()"
   ]
  },
  {
   "cell_type": "code",
   "execution_count": 62,
   "metadata": {},
   "outputs": [],
   "source": [
    "SMS__Received_AwTime7Plus = AwTime7Plus.query('SMS_received == 1')\n",
    "SMS_No_Show_7Plus = SMS__Received_AwTime7Plus.No_show.mean()"
   ]
  },
  {
   "cell_type": "code",
   "execution_count": 63,
   "metadata": {},
   "outputs": [],
   "source": [
    "SMS_Not_Received_AwTime7Plus = AwTime7Plus.query('SMS_received == 0')\n",
    "SMS_No_Show_Not_SMS_Received_7Plus=SMS_Not_Received_AwTime7Plus.No_show.mean()"
   ]
  },
  {
   "cell_type": "code",
   "execution_count": 64,
   "metadata": {},
   "outputs": [
    {
     "data": {
      "text/plain": [
       "(0.2540670166569447, 0.23761690335988916)"
      ]
     },
     "execution_count": 64,
     "metadata": {},
     "output_type": "execute_result"
    }
   ],
   "source": [
    "SMS_No_Show_Not_SMS_Received_1_7,SMS_No_Show_1_7"
   ]
  },
  {
   "cell_type": "code",
   "execution_count": 65,
   "metadata": {},
   "outputs": [
    {
     "data": {
      "text/plain": [
       "(0.36047979797979796, 0.2941422244505724)"
      ]
     },
     "execution_count": 65,
     "metadata": {},
     "output_type": "execute_result"
    }
   ],
   "source": [
    "SMS_No_Show_Not_SMS_Received_7Plus,SMS_No_Show_7Plus"
   ]
  },
  {
   "cell_type": "markdown",
   "metadata": {},
   "source": [
    "We filter our data so that we have four variables to display in one graph:\n",
    "\n",
    "•\tThe No-Show mean for patients who scheduled their appointment within a week and received an SMS reminder.\n",
    "\n",
    "•\tThe No-Show mean for patients who scheduled their appointment within a week and did not receive an SMS reminder.\n",
    "\n",
    "•\tThe No-Show mean for patients who scheduled their appointment in a timeframe greater than a week and received an SMS reminder.\n",
    "\n",
    "•\tThe No-Show mean for patients who scheduled their appointment in a timeframe greater than a week and did not received an SMS reminder.\n"
   ]
  },
  {
   "cell_type": "code",
   "execution_count": 66,
   "metadata": {},
   "outputs": [
    {
     "data": {
      "image/png": "[encoded data removed]",
      "text/plain": [
       "<Figure size 432x288 with 1 Axes>"
      ]
     },
     "metadata": {
      "needs_background": "light"
     },
     "output_type": "display_data"
    }
   ],
   "source": [
    "plt.bar(['Within a week','More than a week'],[SMS_No_Show_Not_SMS_Received_1_7,SMS_No_Show_Not_SMS_Received_7Plus],label=\"SMS not received\")\n",
    "plt.bar(['Within a week','More than a week'],[SMS_No_Show_1_7,SMS_No_Show_7Plus],label=\"SMS received\")\n",
    "plt.title('Comparison between waiting times and whether or not received SMS')\n",
    "plt.ylabel('No-Shows')\n",
    "plt.xlabel('Waiting Times categories')\n",
    "plt.legend();"
   ]
  },
  {
   "cell_type": "markdown",
   "metadata": {},
   "source": [
    "Here the tendency is much clearer. As the waiting time increases, patients tend to miss their appointments more frequently but the patients who receive an SMS reminder miss their appointments less frequently."
   ]
  },
  {
   "cell_type": "markdown",
   "metadata": {},
   "source": [
    "<a id='conclusions'></a>\n",
    "# Conclusions\n",
    "\n",
    "> To summarize this analysis, we can say that in this data set, the patients up to 40 years old missed their medical appointments 4% more than patients in the range of 40-60 years old and 7% more than patients over 60 years old.\n",
    "\n",
    ">Additionally, patients with known conditions such as Diabetes and Hypertasis and people with Handicaps missed their medical appintments 2-3% less than the patients with no such conditions or any Handicaps. This might be because people with known conditions are more dependent on regular visits to the doctor or regular treatment and thus, they need not to miss their appointments.\n",
    "\n",
    ">Regarding the Neighbourhoods where the appointments take place, we can say that the top three Neighbourhoods, with more than average number of appointments, in missed appointments are: \"ITARARÉ\", \"JESUS DE NAZARETH\" and \"ILHA DO PRÍNCIPE\" with 6.3%, 4.4% and 3.5% more missed appointments respectively, than the average. On the other hand, the bottom three Neighbourhoods, with more than average number of appointments, in missed appointments are: \"SANTA MARTHA\", \"JARDIM DA PENHA\", \"CONSOLAÇÃO\" with 4.2%, 3.8% and 2.8% less missed appointments respectively, than the average. We can assume that this has to do with the quality of service of the hospitals/practices and/or the degree of danger in each Neighbourhood.\n",
    "\n",
    ">Another interesting, but rather expected observation is that the longer a patient needed to wait to go to the doctor the more often they missed their appointment. Patients who were scheduled for a doctor visit in less than 24 hours, missed their appointment only 6,6% of the times. On the other hand, patients who were scheduled for a doctor visit within a week missed their appointments 24.7% of the times and the rest who were scheduled for a doctor visit in more than a week missed their appointments 32% of the times. Patients that need to wait many days might forget about their appointment or the condition of their health might improve so they do not need to visit the doctor any more.\n",
    "\n",
    ">Lastly, regarding the SMS reminders that patients received, we investigated whether the reminders played a role in missing or not their appointments. What we found initially is that, surprisingly the patients who received an SMS reminder missed their appointments 10.8% of the times more than the ones who did not. This, however is not accurate, as the SMS reminders were sent for appointments scheduled for 24+ hours and on. Now, as we found, the appointments scheduled for the first 24 hours was the 39.6% of all the appointments of this data set. this a huge portion of the data set and that's why the first calculation is inaccurate.\n",
    "We needed to investigate  how much of a role played the received SMS from the second day and on. The findings are that patients who received an SMS reminder missed their appointments 3.2% less than the ones who did not and this number is far more accurate.\n",
    "Furthermore, we investigated the same thing for waiting times of a week and more than a week. The findings for the first timeframe are that patients who received an SMS reminder missed their appointments 1.7% less than the ones who did not and for the second is that patients who received an SMS reminder missed their appointments 6.6% less than the ones who did not. These numbers show that probably patients that need to wait more for a doctor visit have a higher possibility of forgetting the appointment and thus missing it. An SMS reminder however seems to help more than the it helps patients that need to wait up to a week for a doctor visit.\n",
    "\n",
    ">To conclude, the more important factors of this dataset seem to be the waiting time for the appointment and the age of the patient."
   ]
  }
 ],
 "metadata": {
  "kernelspec": {
   "display_name": "Python 3",
   "language": "python",
   "name": "python3"
  },
  "language_info": {
   "codemirror_mode": {
    "name": "ipython",
    "version": 3
   },
   "file_extension": ".py",
   "mimetype": "text/x-python",
   "name": "python",
   "nbconvert_exporter": "python",
   "pygments_lexer": "ipython3",
   "version": "3.7.7"
  }
 },
 "nbformat": 4,
 "nbformat_minor": 2
}
